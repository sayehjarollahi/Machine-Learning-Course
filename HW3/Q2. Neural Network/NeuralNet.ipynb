{
 "cells": [
  {
   "cell_type": "markdown",
   "metadata": {
    "id": "enkOWzfo8UwS"
   },
   "source": [
    "<img src='http://www-scf.usc.edu/~ghasemig/images/sharif.png' alt=\"SUT logo\" width=200 height=200 align=left class=\"saturate\" >\n",
    "\n",
    "<br>\n",
    "<font face=\"Times New Roman\">\n",
    "<div dir=ltr align=center>\n",
    "<font color=0F5298 size=7>\n",
    "    Introduction to Machine Learning <br>\n",
    "<font color=2565AE size=5>\n",
    "    Computer Engineering Department <br>\n",
    "    Fall 2022<br>\n",
    "<font color=3C99D size=5>\n",
    "    Homework 3: Practical - Neural Network <br>\n",
    "<font color=696880 size=4>\n",
    "    Javad Hezareh \n",
    "    \n",
    "    \n",
    "____\n"
   ]
  },
  {
   "cell_type": "markdown",
   "metadata": {
    "id": "jWKNVLrs8UwY"
   },
   "source": [
    "### Full Name : Sayeh Jarollahi\n",
    "### Student Number : 98101339\n",
    "___"
   ]
  },
  {
   "cell_type": "markdown",
   "metadata": {
    "id": "0_JDkQnt8UwY"
   },
   "source": [
    "# Problem\n",
    "In this assignment our goal is to develop a framework for simple neural networks, multi layer perceptrons. We are going to use only `numpy` and no other packages to build our own classes and network."
   ]
  },
  {
   "cell_type": "markdown",
   "metadata": {
    "id": "AXzCtvPQ8UwZ"
   },
   "source": [
    "# Setup"
   ]
  },
  {
   "cell_type": "code",
   "execution_count": 1,
   "metadata": {
    "id": "D_a46D-Gz3Rj"
   },
   "outputs": [],
   "source": [
    "###################################\n",
    "#  Do Not Add any other packages  #\n",
    "###################################\n",
    "\n",
    "import numpy as np\n",
    "import seaborn as sn\n",
    "import matplotlib.pyplot as plt\n",
    "import tqdm\n",
    "import copy\n",
    "from utils import *\n",
    "\n",
    "plt.style.use('ggplot')"
   ]
  },
  {
   "cell_type": "markdown",
   "metadata": {
    "id": "YxtZwTrr8Uwb"
   },
   "source": [
    "# Section 1: Modules implementation (65 Points)\n",
    "We are going to implement required modules for a neural net. Each of this modules must implement the neccessery functions, `_forward` and `backward`. In the following parts, we will implement `LinearLayer`, `ReLU` and `SoftMax` layers."
   ]
  },
  {
   "cell_type": "markdown",
   "metadata": {
    "id": "hg0aK6lD8Uwb"
   },
   "source": [
    "## Layers"
   ]
  },
  {
   "cell_type": "markdown",
   "metadata": {
    "id": "orlmYC-w8Uwc"
   },
   "source": [
    "#### Linear Layer (10 Points)"
   ]
  },
  {
   "cell_type": "code",
   "execution_count": 2,
   "metadata": {
    "id": "moGEgpV999cl"
   },
   "outputs": [],
   "source": [
    "class LinearLayer(Module):\n",
    "    \"\"\"\n",
    "    A linear layer module which calculate (Wx + b).\n",
    "    \"\"\"\n",
    "\n",
    "    def __init__(self, dim_in, dim_out, initializer, reg, alpha):\n",
    "        \"\"\"\n",
    "        Args:\n",
    "            - dim_in: input dimension,\n",
    "            - dim_out: output dimension,\n",
    "            - initializer: a function which get (dim_in, dim_out) and initialize\n",
    "                a [dim_in x dim_out] matrix,\n",
    "            - reg: L2-regularization flag\n",
    "            - alpha: L2-regularization coefficient\n",
    "        \"\"\"\n",
    "        self.dim_in = dim_in\n",
    "        self.dim_out = dim_out\n",
    "        self.params = {\n",
    "            #########################################\n",
    "            ##          Initialize parameters      ##\n",
    "            ##              Your Code              ##\n",
    "            #########################################\n",
    "            'W': initializer(dim_in, dim_out),\n",
    "            'b': initializer(1, dim_out)\n",
    "        }\n",
    "        self.grads = dict()\n",
    "        self.cache = dict()\n",
    "        self.reg = reg\n",
    "        self.alpha = alpha\n",
    "\n",
    "    def _forward(self, x):\n",
    "        \"\"\"\n",
    "        linear forward function, calculate Wx+b for a batch of data\n",
    "\n",
    "        Args:\n",
    "            x : a batch of data\n",
    "\n",
    "        Note:\n",
    "            you need to store some values in cache to be able to\n",
    "            calculate backward path.\n",
    "        \"\"\"\n",
    "        #########################################\n",
    "        ##              Your Code              ##\n",
    "        #########################################\n",
    "        y = x @ self.params['W'] + self.params['b']\n",
    "        self.cache['x'] = x\n",
    "        self.cache['W'] = self.params['W']\n",
    "        self.cache['b'] = self.params['b']\n",
    "        return y\n",
    "\n",
    "    def backward(self, upstream):\n",
    "        \"\"\"\n",
    "        get upstream gradient and returns downstream gradient\n",
    "\n",
    "        Args:\n",
    "            upstream : upstream gradient of loss w.r.t module output\n",
    "\n",
    "        Note:\n",
    "            you need to calculate gradient of loss w.r.t module input\n",
    "            and parameters and store them in grads.\n",
    "        \"\"\"\n",
    "        #########################################\n",
    "        ##              Your Code              ##\n",
    "        #########################################\n",
    "        grad_b = np.sum(upstream, axis=0)\n",
    "        grad_w = self.cache['x'].T @ upstream\n",
    "        grad_x = upstream @ self.cache['W'].T\n",
    "        grad_reg = 2 * self.alpha * self.cache['W'] if self.reg else 0\n",
    "\n",
    "        self.grads = {\n",
    "            'W': grad_w,\n",
    "            'b': grad_b,\n",
    "            'x': grad_x,\n",
    "            'reg' : grad_reg\n",
    "        }\n",
    "        return grad_x\n",
    "\n"
   ]
  },
  {
   "cell_type": "code",
   "execution_count": 3,
   "metadata": {
    "colab": {
     "base_uri": "https://localhost:8080/"
    },
    "id": "AaXr7dS58Uwe",
    "outputId": "d881e798-909c-4991-af44-03ab65573685"
   },
   "outputs": [
    {
     "name": "stdout",
     "output_type": "stream",
     "text": [
      "Gradient of loss w.r.t output:\n",
      "[[0.82955535 0.21114721 0.29056745 0.76196253 0.48381119 0.26313752\n",
      "  0.17058744 0.68924104 0.14521547 0.36108282]\n",
      " [0.17969557 0.61131998 0.90547691 0.09465278 0.04351438 0.82898441\n",
      "  0.53347611 0.25746229 0.83709683 0.91589097]\n",
      " [0.95338569 0.53886974 0.68147718 0.14543317 0.36605854 0.25725115\n",
      "  0.64065521 0.99467217 0.84735271 0.6116583 ]\n",
      " [0.6585274  0.09264464 0.55180917 0.84839143 0.74920247 0.66146217\n",
      "  0.48228694 0.96546312 0.48159736 0.23890255]\n",
      " [0.62490249 0.71391215 0.39654666 0.08349731 0.25206548 0.14235356\n",
      "  0.84943899 0.30579129 0.18025764 0.72632517]\n",
      " [0.07006783 0.77688796 0.90754448 0.97929669 0.15398316 0.39885902\n",
      "  0.85437948 0.42579468 0.34963434 0.91473698]\n",
      " [0.92071169 0.33599422 0.31872931 0.63541889 0.58434891 0.17077758\n",
      "  0.11395208 0.59733395 0.64102327 0.2976854 ]\n",
      " [0.36232214 0.94163488 0.10551311 0.04220206 0.55321597 0.03134844\n",
      "  0.82945429 0.71557495 0.4421455  0.89943093]\n",
      " [0.15358404 0.01888662 0.93738637 0.70363497 0.25615749 0.52405876\n",
      "  0.07851757 0.82801702 0.82128155 0.6839097 ]\n",
      " [0.43418109 0.88647521 0.26329912 0.97095353 0.84626562 0.99043451\n",
      "  0.17365826 0.97193332 0.63421181 0.30386288]]\n",
      "Gradient of loss w.r.t input:\n",
      "[[-3.41261791 -1.01130334  2.15797424 -0.83398896  1.61506138]\n",
      " [-0.16260267 -0.17579032 -1.18670524 -2.09193906 -0.36535924]\n",
      " [-2.24798658 -0.96476937  1.46253265 -3.46094581  1.11388811]\n",
      " [-3.59935782 -1.12677239  2.13006431 -1.57711489  2.58437606]\n",
      " [-1.63110785 -1.35364688  0.32657897 -1.93238678 -0.10857025]\n",
      " [-2.10441049 -0.9566916  -0.33454241 -0.67818252  1.42428775]\n",
      " [-3.44519882 -0.85553112  2.80017281 -1.71790719  1.107543  ]\n",
      " [-1.49593045 -1.51049072  1.36933407 -3.03326817  0.48575973]\n",
      " [-1.52368722  0.70667028  0.2052656  -0.82530562  1.79370013]\n",
      " [-3.91967072 -1.82984889  3.07719835 -2.77344939  2.74340115]]\n",
      "Gradient of loss w.r.t W:\n",
      "[[-0.07413355  1.38987484  0.00630421 -1.30000989 -0.69867041 -0.00371523\n",
      "   0.77006194 -1.75200249  0.08158199  1.07245762]\n",
      " [ 0.8180963   1.75706974  1.9269733   2.46883827  0.79617667  0.94336928\n",
      "   1.73546778  2.33289953  0.8489505   2.17299004]\n",
      " [-1.73793658  1.70546404  0.60665643 -2.94957165 -1.6757166   0.06701201\n",
      "   1.20094719 -2.01195638  0.76333291  2.54049985]\n",
      " [-0.45139637  1.23489814 -0.28003495 -1.16933264 -0.78370106 -1.82406556\n",
      "   0.88269164 -0.91585754 -0.2555532   1.16759882]\n",
      " [ 3.23746074  0.52410581  1.57116444  2.30895259  2.21580388  1.88801468\n",
      "   1.55779322  3.49752565  1.17878441  0.44437057]]\n",
      "Gradient of loss w.r.t b:\n",
      "[5.18693329 5.12777261 5.35834976 5.26544336 4.28862321 4.26866713\n",
      " 4.72640636 6.75128384 5.37981648 5.9534857 ]\n",
      "Relative error of delta-loss (for linear unit):\n",
      "2.3777819736119963e-05\n",
      "Relative error of delta-loss (for regularization):\n",
      "2.1011742666456757e-05\n"
     ]
    }
   ],
   "source": [
    "# sanity check, output must be from o(e-5)\n",
    "initializer = lambda x, y: np.random.normal(size=(x, y))\n",
    "linear = LinearLayer(5, 10, initializer, reg=True, alpha=1)\n",
    "check_gradient_linear(linear, h=0.00001)"
   ]
  },
  {
   "cell_type": "markdown",
   "metadata": {
    "id": "YXwNNcAV8Uwf"
   },
   "source": [
    "#### ReLU Layer (5 Points)"
   ]
  },
  {
   "cell_type": "code",
   "execution_count": 4,
   "metadata": {
    "id": "RSsLumM29_eT"
   },
   "outputs": [],
   "source": [
    "class ReLU(Module):\n",
    "    \"\"\"\n",
    "    Rectified Linear Unit function\n",
    "    \"\"\"\n",
    "\n",
    "    def __init__(self):\n",
    "        self.cache = dict()\n",
    "        self.grads = dict()\n",
    "\n",
    "    def _forward(self, x):\n",
    "        \"\"\"\n",
    "        applies relu function on x\n",
    "\n",
    "        Args:\n",
    "            x : a batch of data\n",
    "\n",
    "        Returns:\n",
    "            y : relu of input\n",
    "        \"\"\"\n",
    "        #########################################\n",
    "        ##              Your Code              ##\n",
    "        #########################################\n",
    "        y = np.maximum(0, x)\n",
    "        self.cache['x'] = x\n",
    "        return y\n",
    "\n",
    "    def backward(self, upstream):\n",
    "        \"\"\"\n",
    "        calculate and store gradient of loss w.r.t module input\n",
    "\n",
    "        Args:\n",
    "            upstream : gradient of loss w.r.t modele output\n",
    "        \"\"\"\n",
    "        #########################################\n",
    "        ##              Your Code              ##\n",
    "        #########################################\n",
    "        grad_x=upstream\n",
    "        grad_x[self.cache['x']<=0]=0\n",
    "        self.grads['x'] = grad_x\n",
    "\n"
   ]
  },
  {
   "cell_type": "code",
   "execution_count": 5,
   "metadata": {
    "colab": {
     "base_uri": "https://localhost:8080/"
    },
    "id": "VUXvH2mM8Uwg",
    "outputId": "171418f7-92fd-46aa-9e6b-67077613b4f9"
   },
   "outputs": [
    {
     "name": "stdout",
     "output_type": "stream",
     "text": [
      "Gradient of loss w.r.t output:\n",
      "[[0.         0.88325126 0.         0.         0.        ]\n",
      " [0.         0.         0.         0.         0.        ]\n",
      " [0.         0.         0.93640053 0.         0.33644566]\n",
      " [0.87531923 0.36254974 0.         0.         0.96677731]\n",
      " [0.52121319 0.0189511  0.         0.67793154 0.20010495]\n",
      " [0.         0.46844046 0.26309046 0.         0.        ]\n",
      " [0.62944357 0.         0.         0.21539666 0.        ]\n",
      " [0.20357441 0.         0.75884962 0.         0.51406511]\n",
      " [0.         0.         0.72842911 0.         0.        ]\n",
      " [0.64932805 0.24568954 0.25430494 0.42654584 0.25253977]]\n",
      "Gradient of loss w.r.t input:\n",
      "[[0.         0.88325126 0.         0.         0.        ]\n",
      " [0.         0.         0.         0.         0.        ]\n",
      " [0.         0.         0.93640053 0.         0.33644566]\n",
      " [0.87531923 0.36254974 0.         0.         0.96677731]\n",
      " [0.52121319 0.0189511  0.         0.67793154 0.20010495]\n",
      " [0.         0.46844046 0.26309046 0.         0.        ]\n",
      " [0.62944357 0.         0.         0.21539666 0.        ]\n",
      " [0.20357441 0.         0.75884962 0.         0.51406511]\n",
      " [0.         0.         0.72842911 0.         0.        ]\n",
      " [0.64932805 0.24568954 0.25430494 0.42654584 0.25253977]]\n",
      "Relative error of delta-loss:\n",
      "2.484727903125079e-14\n"
     ]
    }
   ],
   "source": [
    "# sanity check - output must be from o(e-8)\n",
    "relu = ReLU()\n",
    "check_gradient_relu(relu)"
   ]
  },
  {
   "cell_type": "markdown",
   "metadata": {
    "id": "3JHF4Yok8Uwg"
   },
   "source": [
    "#### SoftMax Layer (15 Points)\n",
    "\n",
    "We could have a layer that calculate softmax for us. In other word, for input $x\\in\\mathcal{R}^N$ it would return $y\\in\\mathcal{R}^n$ where $y_i = \\frac{e^{x_i}}{\\sum e^{x_i}}$. But this method is not numerical stable because $e^{x_i}$ in this formulation can get very large easly and return `nan`. Instead of that we will implement a logarithmic version of softmax which instead of calculating $\\frac{e^{x_i}}{\\sum e^{x_i}}$, we will calculate $\\log\\left(\\frac{e^{x_i}}{\\sum e^{x_i}}\\right) = x_i - \\log\\sum e^{x_i}$. In order to calculate second term you can use `np.logaddexp` but this function only works on two input. For more than two input, fill in the following function to be able to calculate log sum exp of an array of shape (b,n). `axis=1` means sum over columns and `axis=0` sum over rows."
   ]
  },
  {
   "cell_type": "code",
   "execution_count": 6,
   "metadata": {
    "id": "Ec5ngl2H8Uwg"
   },
   "outputs": [],
   "source": [
    "def logsumexp(array, axis=1):\n",
    "    \"\"\"\n",
    "    calculate log(sum(exp(array))) using np.logaddexp\n",
    "\n",
    "    Args:\n",
    "        array : input array\n",
    "        axis : reduce axis, 1 means columns and 0 means rows\n",
    "    \"\"\"\n",
    "    assert len(array) >= 2\n",
    "    #########################################\n",
    "    ##              Your Code              ##\n",
    "    #########################################\n",
    "    array = np.array(array, dtype = float)\n",
    "    res = np.logaddexp.reduce(array, axis=axis)\n",
    "    res = np.array([res])\n",
    "    if axis ==1:\n",
    "        res = res.T\n",
    "    return res\n"
   ]
  },
  {
   "cell_type": "code",
   "execution_count": 7,
   "metadata": {
    "id": "R4v5_UBB-BCK"
   },
   "outputs": [],
   "source": [
    "class LogSoftMax(Module):\n",
    "    def __init__(self):\n",
    "        self.cache = dict()\n",
    "        self.grads = dict()\n",
    "\n",
    "    def _forward(self, x):\n",
    "        \"\"\"\n",
    "        get x and calculate softmax of that.\n",
    "\n",
    "        Args:\n",
    "            x : batch of data with shape (b,m)\n",
    "\n",
    "        Returns:\n",
    "            y : log softmax of x with shape (b,m)\n",
    "        \"\"\"\n",
    "        #########################################\n",
    "        ##              Your Code              ##\n",
    "        #########################################\n",
    "        y = x - logsumexp(x)\n",
    "        self.cache['x'] = x\n",
    "        self.cache['y'] = y\n",
    "        return y\n",
    "\n",
    "    def backward(self, upstream):\n",
    "        \"\"\"\n",
    "        calculate gradient of loss w.r.t module input and save that in grads.\n",
    "\n",
    "        Args:\n",
    "            upstream : gradient of loss w.r.t module output with sahpe (b,m)\n",
    "        \"\"\"\n",
    "        #########################################\n",
    "        ##              Your Code              ##\n",
    "        #########################################\n",
    "        grad_x = upstream - np.exp(self.cache['y']) * np.sum(upstream, axis=1).reshape(upstream.shape[0], 1)\n",
    "        \n",
    "        self.grads['x'] = grad_x\n",
    "\n"
   ]
  },
  {
   "cell_type": "code",
   "execution_count": 8,
   "metadata": {
    "colab": {
     "base_uri": "https://localhost:8080/"
    },
    "id": "-PrheI998Uwh",
    "outputId": "1e7afba2-3739-4cc9-e565-21586ca99b8b"
   },
   "outputs": [
    {
     "name": "stdout",
     "output_type": "stream",
     "text": [
      "Gradient of loss w.r.t output:\n",
      "[[0.1630331  0.13488387 0.64710355 0.267412   0.38909318]\n",
      " [0.17558247 0.28087961 0.28324271 0.94903849 0.49365313]\n",
      " [0.66110396 0.48183119 0.81942941 0.72267524 0.05972474]\n",
      " [0.23687506 0.58419898 0.63517021 0.34454597 0.22345524]\n",
      " [0.88441083 0.96840966 0.22989379 0.11408372 0.45871137]\n",
      " [0.00832097 0.74025973 0.43923602 0.0739073  0.96269913]\n",
      " [0.17190485 0.1383921  0.6479173  0.88009471 0.35911365]\n",
      " [0.42453736 0.08015594 0.24649505 0.0371008  0.95956135]\n",
      " [0.14149331 0.25348514 0.93081829 0.36581357 0.52428419]\n",
      " [0.23683714 0.9252707  0.18926396 0.4527474  0.47814843]]\n",
      "Gradient of loss w.r.t input:\n",
      "[[-0.25543381 -0.14106689  0.41398    -0.12588516  0.10840584]\n",
      " [-0.20376161 -0.15868754 -0.08018071  0.43744502  0.00518484]\n",
      " [ 0.11956483  0.16874444  0.31243645 -0.01058303 -0.59016269]\n",
      " [-0.09121993  0.20407432  0.31101343  0.00085981 -0.42472763]\n",
      " [ 0.28037124  0.35101985 -0.11664377 -0.4851247  -0.02962261]\n",
      " [-0.29306479  0.21679663 -0.12605471 -0.46330875  0.66563162]\n",
      " [-0.403257   -0.28535296  0.22465089  0.32906213  0.13489695]\n",
      " [ 0.02977464 -0.26441952 -0.26649578 -0.19206979  0.69321045]\n",
      " [-0.37287508 -0.16202289  0.67216183 -0.13421601 -0.00304785]\n",
      " [-0.1331356   0.33035269 -0.14465495 -0.06388172  0.01131958]]\n",
      "Relative error of delta-loss:\n",
      "1.7700531572508487e-07\n"
     ]
    }
   ],
   "source": [
    "# sanity check, output must be from o(e-7)\n",
    "sm = LogSoftMax()\n",
    "check_gradient_softmax(sm)"
   ]
  },
  {
   "cell_type": "markdown",
   "metadata": {
    "id": "93NZnToZ8Uwh"
   },
   "source": [
    "## Model (10 Points)\n",
    "We need a model class which gathers our layers togather and performs forward and backward on all of them."
   ]
  },
  {
   "cell_type": "code",
   "execution_count": 9,
   "metadata": {
    "id": "j3l_d_3h8Uwi"
   },
   "outputs": [],
   "source": [
    "class MLPModel(Module):\n",
    "    \"\"\"\n",
    "    A multilayer neural network model\n",
    "    \"\"\"\n",
    "\n",
    "    def __init__(self, layers):\n",
    "        \"\"\"\n",
    "        Args:\n",
    "            layers : list of model layers\n",
    "        \"\"\"\n",
    "        self.layers = layers\n",
    "\n",
    "    def _forward(self, x):\n",
    "        \"\"\"\n",
    "        Perform forward on x\n",
    "\n",
    "        Args:\n",
    "            x : a batch of data\n",
    "\n",
    "        Returns:\n",
    "            o : model output\n",
    "        \"\"\"\n",
    "        for layer in self.layers:\n",
    "            o = layer._forward(x)\n",
    "            x  = o \n",
    "        return o\n",
    "        #########################################\n",
    "        ##              Your Code              ##\n",
    "        #########################################\n",
    "\n",
    "\n",
    "    def backward(self, upstream):\n",
    "        \"\"\"\n",
    "        Perform backward path on whole model\n",
    "\n",
    "        Args:\n",
    "            upstream : gradient of loss w.r.t model output\n",
    "        \"\"\"\n",
    "        #########################################\n",
    "        ##              Your Code              ##\n",
    "        #########################################\n",
    "        res = upstream\n",
    "        for layer in reversed(self.layers):\n",
    "            layer.backward(res)\n",
    "            res = layer.grads['x']\n",
    "        return np.copy(res)\n",
    "\n",
    "    def get_parameters(self):\n",
    "        \"\"\"\n",
    "        Returns:\n",
    "            parametric_layers : all layers of model which have parameter\n",
    "        \"\"\"\n",
    "        res = list()\n",
    "        for layer in self.layers:\n",
    "            if hasattr(layer, 'params'):\n",
    "                res.append(layer)\n",
    "        return res\n"
   ]
  },
  {
   "cell_type": "markdown",
   "metadata": {
    "id": "xerIFEPa8Uwi"
   },
   "source": [
    "## Loss functions (10 Points)\n",
    "We need to implement loss functions to be able to train our network. We will implement CrossEntropy loss function. But notice that we have implemented `LogSoftMax` in logarithmic way so input of the following class will be logarithm of probabilities. "
   ]
  },
  {
   "cell_type": "code",
   "execution_count": 10,
   "metadata": {
    "id": "HIBN2fmBpYGG"
   },
   "outputs": [],
   "source": [
    "class CrossEntropyLoss(Module):\n",
    "    def __init__(self, mean=False):\n",
    "        self.mean = mean\n",
    "        self.cache = dict()\n",
    "        self.grads = dict()\n",
    "\n",
    "    def _forward(self, logprobs, targets):\n",
    "        \"\"\"\n",
    "        Calculate cross entropy of inputs.\n",
    "\n",
    "        Args:\n",
    "            probs : matrix of probabilities with shape (b,n)\n",
    "            targets : list of samples classes with shape (b,)\n",
    "\n",
    "        Returns:\n",
    "            y : cross entropy loss\n",
    "        \"\"\"\n",
    "        #########################################\n",
    "        ##              Your Code              ##\n",
    "        #########################################\n",
    "        y = None\n",
    "        self.cache['x'] = logprobs\n",
    "        tmp = np.zeros(logprobs.shape)\n",
    "        for i in range(logprobs.shape[0]):\n",
    "            tmp[i][targets[i]] = 1\n",
    "        targets = tmp\n",
    "        self.cache['target'] = targets\n",
    "\n",
    "        y = - np.sum(targets*logprobs) / logprobs.shape[0]\n",
    "        if self.mean:\n",
    "            y = y / logprobs.shape[1]\n",
    "        return y\n",
    "\n",
    "    def backward(self, upstream):\n",
    "        \"\"\"\n",
    "        Calculate gradient of loss w.r.t module input and save them in grads.\n",
    "\n",
    "        Args:\n",
    "            upstream : gradient of loss w.r.t module output (loss)\n",
    "        \"\"\"\n",
    "        #########################################\n",
    "        ##              Your Code              ##\n",
    "        #########################################\n",
    "        grad_scores = upstream * (-self.cache['target'] / self.cache['target'].shape[0])\n",
    "        if self.mean:\n",
    "            grad_scores /= self.cache['x'].shape[0]        \n",
    "        self.grads['x'] = grad_scores\n",
    "\n"
   ]
  },
  {
   "cell_type": "code",
   "execution_count": 11,
   "metadata": {
    "colab": {
     "base_uri": "https://localhost:8080/"
    },
    "id": "LkfpcwZ58Uwj",
    "outputId": "0d2b9548-605e-4725-edf0-b3d8180438ae"
   },
   "outputs": [
    {
     "name": "stdout",
     "output_type": "stream",
     "text": [
      "Gradient of loss w.r.t output:\n",
      "1\n",
      "Gradient of loss w.r.t input:\n",
      "[[-0.  -0.1 -0.  -0.  -0. ]\n",
      " [-0.  -0.  -0.  -0.1 -0. ]\n",
      " [-0.  -0.  -0.  -0.  -0.1]\n",
      " [-0.1 -0.  -0.  -0.  -0. ]\n",
      " [-0.1 -0.  -0.  -0.  -0. ]\n",
      " [-0.  -0.1 -0.  -0.  -0. ]\n",
      " [-0.  -0.  -0.  -0.  -0.1]\n",
      " [-0.  -0.1 -0.  -0.  -0. ]\n",
      " [-0.  -0.1 -0.  -0.  -0. ]\n",
      " [-0.  -0.  -0.  -0.  -0.1]]\n",
      "Relative error of delta-loss:\n",
      "3.327145416815998e-13\n"
     ]
    }
   ],
   "source": [
    "# check gradient, output must be from o(e-10)\n",
    "ce = CrossEntropyLoss()\n",
    "check_gradient_ce(ce, h=0.0001)"
   ]
  },
  {
   "cell_type": "markdown",
   "metadata": {
    "id": "YJ6oIRpH8Uwj"
   },
   "source": [
    "## Optimization (15 Points)\n",
    "\n",
    "Now that we have our network and loss function, we need to update model paremeters. We can do so by using `Optimizer` class that perform updating rule on model parameters. You need to implement `sgd` and `momentum` strategy for this optimizer. Becarefull to consider regularization update for linear units that require regularization."
   ]
  },
  {
   "cell_type": "code",
   "execution_count": 12,
   "metadata": {
    "id": "pDROgraatB0p"
   },
   "outputs": [],
   "source": [
    "class Optimizer():\n",
    "    \"\"\"\n",
    "    Our main optimization class.\n",
    "    \n",
    "    You can add arguments to _sgd and _momentum function if you need to do so, and\n",
    "    pass this arguments to step function when using optimizer. Don't change __init__\n",
    "    or step function.\n",
    "    \"\"\"\n",
    "\n",
    "    def __init__(self, layers, strategy, lr):\n",
    "        \"\"\"\n",
    "        save layers here in order to update their parameters later.\n",
    "\n",
    "        Args:\n",
    "            layers : model layers (those that we want to update their parameters)\n",
    "            strategy : optimization strategy\n",
    "            lr : learning rate\n",
    "        \"\"\"\n",
    "        self.layers = layers\n",
    "        self.strategy = strategy\n",
    "        self.lr = lr\n",
    "        self.strategies = {\n",
    "            'sgd': self._sgd,\n",
    "            'momentum': self._momentum,\n",
    "        }\n",
    "\n",
    "    def step(self, *args):\n",
    "        \"\"\"\n",
    "        Perform updating strategy on all layers paramters.\n",
    "        \"\"\"\n",
    "        self.strategies[self.strategy](*args)\n",
    "\n",
    "    def _sgd(self):\n",
    "        \"\"\"\n",
    "        Perform sgd update on all parameters of layers\n",
    "        \"\"\"\n",
    "        #########################################\n",
    "        ##              Your Code              ##\n",
    "        #########################################\n",
    "        for layer in self.layers:\n",
    "            for param, val in layer.params.items():\n",
    "                diff = layer.grads[param] * self.lr\n",
    "                if layer.reg and param == 'W':\n",
    "                    diff += self.lr *  layer.grads['reg']\n",
    "                layer.params[param] -= diff\n",
    "\n",
    "    \n",
    "    def _momentum(self, gamma = 0.15):\n",
    "        \"\"\"\n",
    "        Perform momentum update on all parameters of layers\n",
    "        \"\"\"\n",
    "        #########################################\n",
    "        ##              Your Code              ##\n",
    "        #########################################\n",
    "        for layer in self.layers:\n",
    "            for param, val in layer.params.items():\n",
    "                v_t = layer.cache.get(f'v_{param}',0) * gamma\n",
    "                v_t += self.lr * layer.grads[param]\n",
    "                if param == 'W' and layer.reg:\n",
    "                    v_t += self.lr * layer.grads['reg']\n",
    "                layer.cache[f'v_{param}'] = v_t\n",
    "                layer.params[param] -= v_t\n"
   ]
  },
  {
   "cell_type": "markdown",
   "metadata": {
    "id": "6TDU7d-78Uwk"
   },
   "source": [
    "# Section 2: CIFAR-10 Classification (35 Points)\n",
    "\n",
    "Now that we can build a neural network we want to solve CIFAR-10 classification problem. This dataset consists of 60000 $32 \\times 32$ coloured images in 10 classes."
   ]
  },
  {
   "cell_type": "markdown",
   "metadata": {
    "id": "BcOk010_8Uwk"
   },
   "source": [
    "## Data preparation (5 Points)"
   ]
  },
  {
   "cell_type": "code",
   "execution_count": 13,
   "metadata": {
    "colab": {
     "base_uri": "https://localhost:8080/"
    },
    "id": "C_mNLLac8Uwl",
    "outputId": "12e014ee-24c1-4d75-c2e5-f6951901fa68"
   },
   "outputs": [],
   "source": [
    "#################################################\n",
    "##      Run this cell to download dataset      ##\n",
    "##         the dataset is about 150 MB         ##\n",
    "#################################################\n",
    "! chmod 777 cifar10_downloader.bash\n",
    "! ./cifar10_downloader.bash"
   ]
  },
  {
   "cell_type": "code",
   "execution_count": 14,
   "metadata": {
    "colab": {
     "base_uri": "https://localhost:8080/"
    },
    "id": "OlloyPrp8Uwl",
    "outputId": "231b997a-ffba-4c0c-891a-578113cfc273"
   },
   "outputs": [
    {
     "name": "stdout",
     "output_type": "stream",
     "text": [
      "X_train: (4000, 32, 32, 3)\n",
      "Y_train: (4000,)\n",
      "X_test: (1000, 32, 32, 3)\n",
      "Y_test: (1000,)\n"
     ]
    }
   ],
   "source": [
    "#############################################\n",
    "##      Run this cell to load dataset      ##\n",
    "#############################################\n",
    "data = load_dataset(train_num=4000, test_num=1000)\n",
    "\n",
    "for k in data.keys():\n",
    "    print(f'{k}: {data[k].shape}')"
   ]
  },
  {
   "cell_type": "code",
   "execution_count": 15,
   "metadata": {
    "colab": {
     "base_uri": "https://localhost:8080/"
    },
    "id": "dCHGrZCv8Uwl",
    "outputId": "5bb38409-a6d7-4619-c0da-6872bdbe722d"
   },
   "outputs": [
    {
     "name": "stdout",
     "output_type": "stream",
     "text": [
      "X_train: (3400, 32, 32, 3)\n",
      "Y_train: (3400,)\n",
      "X_test: (1000, 32, 32, 3)\n",
      "Y_test: (1000,)\n",
      "X_validation: (600, 32, 32, 3)\n",
      "Y_validation: (600,)\n"
     ]
    }
   ],
   "source": [
    "##############################################\n",
    "##      Split train set to train/val        ##\n",
    "################[Your Code]###################\n",
    "def split_data(X, y, train_pr=0.8):\n",
    "    index = np.array(range(y.shape[0]))\n",
    "    np.random.shuffle(index)\n",
    "    train_index = index[:int(train_pr * len(index))]\n",
    "    test_index = index[int(train_pr * len(index)):]\n",
    "    X_train = X[train_index]\n",
    "    y_train = y[train_index]\n",
    "    X_test = X[test_index]\n",
    "    y_test = y[test_index]\n",
    "    return X_train, y_train, X_test, y_test\n",
    "\n",
    "data['X_train'], data['Y_train'], data['X_validation'], data['Y_validation'] = split_data(data['X_train'], data['Y_train'], 0.85)\n",
    "##############################################\n",
    "for k in data.keys():\n",
    "    print(f'{k}: {data[k].shape}')"
   ]
  },
  {
   "cell_type": "code",
   "execution_count": 16,
   "metadata": {
    "colab": {
     "base_uri": "https://localhost:8080/",
     "height": 592
    },
    "id": "UCW-AXd38Uwm",
    "outputId": "50faf305-3f0d-4f40-b04f-ee3dd6fae684"
   },
   "outputs": [
    {
     "data": {
      "image/png": "[encoded data removed]",
      "text/plain": [
       "<Figure size 1440x720 with 50 Axes>"
      ]
     },
     "metadata": {
      "needs_background": "light"
     },
     "output_type": "display_data"
    }
   ],
   "source": [
    "##################################################\n",
    "##      Visualize 5 samples from each class     ##\n",
    "##################[Your Code]#####################\n",
    "NUM_CLASSES = 10\n",
    "CLASSES = {0:'airplane',1: 'automobile', 2:'bird', 3:'cat', 4:'deer', 5:'dog', 6:'frog', 7:'horse', 8:'ship', 9:'truck'}\n",
    "SAMPLE_COUNT = 5\n",
    "import cv2\n",
    "def visualize(X, y):\n",
    "    fig = plt.figure(figsize=(20, 10))\n",
    "    all_indexes = np.arange(0, y.shape[0])\n",
    "    image_count = 1\n",
    "    for id, lbl in CLASSES.items():\n",
    "        indexes = all_indexes[y==id]\n",
    "        choices = np.random.choice(indexes, size=SAMPLE_COUNT, replace=False)\n",
    "        row = 0 \n",
    "        for choice in choices:\n",
    "            fig.add_subplot(5, 10, 10*row + id +1)\n",
    "            row += 1\n",
    "            image_count += 1\n",
    "            image = X[choice]\n",
    "            plt.imshow(image)\n",
    "            plt.axis('off')\n",
    "            if row == 1:\n",
    "                plt.title(lbl)\n",
    "\n",
    "visualize(data['X_train'], data['Y_train'])"
   ]
  },
  {
   "cell_type": "code",
   "execution_count": 17,
   "metadata": {
    "colab": {
     "base_uri": "https://localhost:8080/"
    },
    "id": "YqDnPKpz8Uwm",
    "outputId": "1de54f3f-7943-40cc-d399-b307b1a95992"
   },
   "outputs": [
    {
     "name": "stdout",
     "output_type": "stream",
     "text": [
      "X_train: (3400, 3072)\n",
      "Y_train: (3400,)\n",
      "X_test: (1000, 3072)\n",
      "Y_test: (1000,)\n",
      "X_validation: (600, 3072)\n",
      "Y_validation: (600,)\n"
     ]
    }
   ],
   "source": [
    "#####################################################\n",
    "##             Normalize and flatten X             ##\n",
    "####################[Your Code]######################\n",
    "def normalize(x):\n",
    "    mean = np.mean(x, axis=0)\n",
    "    std = np.std(x, axis=0)\n",
    "    return (x-mean) / std\n",
    "\n",
    "def flatten(x):\n",
    "    return x.reshape(x.shape[0], -1)\n",
    "\n",
    "data['X_train'] = normalize(flatten(data['X_train']))\n",
    "data['X_test'] = normalize(flatten(data['X_test']))\n",
    "data['X_validation'] = normalize(flatten(data['X_validation']))\n",
    "\n",
    "\n",
    "#####################################################\n",
    "for k in data.keys():\n",
    "    print(f'{k}: {data[k].shape}')"
   ]
  },
  {
   "cell_type": "markdown",
   "metadata": {
    "id": "zxpsSjJT8Uwn"
   },
   "source": [
    "## Train and Test Model (25 Points)"
   ]
  },
  {
   "cell_type": "markdown",
   "metadata": {
    "id": "5Qrgnpf58Uwn"
   },
   "source": [
    "### Batch Sampler\n",
    "We need to sample bathces from our dataset to train model. Complete the following class to have a random sampler."
   ]
  },
  {
   "cell_type": "code",
   "execution_count": 18,
   "metadata": {
    "id": "0WuOO-W48Uwn"
   },
   "outputs": [],
   "source": [
    "class RandomSampler(object):\n",
    "    def __init__(self, batch_size, dataset, type):\n",
    "        \"\"\"\n",
    "        Args:\n",
    "            batch_size : sampler batch size\n",
    "            dataset : dataset we want to get batch from that\n",
    "            type : one of {'train', 'test', 'val'}\n",
    "        \"\"\"\n",
    "        self.batch_size = batch_size\n",
    "        self.dataset = dataset\n",
    "        self.x_key = f'X_{type}'\n",
    "        self.y_key = f'Y_{type}'\n",
    "        self.num_batches = int(np.ceil(data[self.y_key].shape[0] / batch_size))\n",
    "        self.indices = np.array_split(range(data[self.y_key].shape[0]), self.num_batches)\n",
    "        \n",
    "        ################################################################\n",
    "        ##       Build batches indices and store them in indices      ##\n",
    "        ##          Also store number of batches in num_batches       ##\n",
    "        ##                          Your Code                         ##\n",
    "        ################################################################\n",
    "        \n",
    "\n",
    "    def __len__(self):\n",
    "        assert type(self.num_batches) == int\n",
    "        return self.num_batches\n",
    "\n",
    "    def __iter__(self):\n",
    "        \"\"\"\n",
    "        This function call when we iterate an object of this class and\n",
    "        yields one batch on each call.\n",
    "\n",
    "        Yields:\n",
    "            (x, y) : tuple of bathces of x and y\n",
    "        \"\"\"\n",
    "        for idx in self.indices:\n",
    "            x = self.dataset[self.x_key][idx]\n",
    "            y = self.dataset[self.y_key][idx]\n",
    "            yield x, y\n"
   ]
  },
  {
   "cell_type": "markdown",
   "metadata": {
    "id": "5VsqL22h8Uwn"
   },
   "source": [
    "Fill the following functions to update a confusion matrix and calculate f1 score for a confusion matrix. For multi class f1 score read [here](https://towardsdatascience.com/multi-class-metrics-made-simple-part-ii-the-f1-score-ebe8b2c2ca1)."
   ]
  },
  {
   "cell_type": "code",
   "execution_count": 19,
   "metadata": {
    "id": "BRwXVg-R8Uwo"
   },
   "outputs": [],
   "source": [
    "def update_confusion_matrix(conf_matrix, preds, reals):\n",
    "    \"\"\"\n",
    "    Updates confusion matrix\n",
    "\n",
    "    Args:\n",
    "        conf_matrix : input confusion matrix\n",
    "        preds : array of predicted labels\n",
    "        reals : array of real labels\n",
    "\n",
    "    Returns:\n",
    "        conf_matrix : updated confusion matrix\n",
    "    \"\"\"\n",
    "    #################################\n",
    "    ##          Your Code          ##\n",
    "    #################################\n",
    "    for i, j in zip(preds, reals):\n",
    "        conf_matrix[i][j] += 1\n",
    "    return conf_matrix\n",
    "\n",
    "\n",
    "def f1_score(confusion_matrix):\n",
    "    \"\"\"\n",
    "    calculate macro f1 score from given confusion matrix\n",
    "\n",
    "    Args:\n",
    "        confusion_matrix : given confusion matrix\n",
    "        \n",
    "    Returns:\n",
    "        f1 : macro f1 score\n",
    "    \"\"\"\n",
    "    #################################\n",
    "    ##          Your Code          ##\n",
    "    #################################\n",
    "    confusion_matrix = np.array(confusion_matrix)\n",
    "    f1_score = 2 * confusion_matrix.diagonal() / (np.sum(confusion_matrix, axis=0) + np.sum(confusion_matrix, axis=1))\n",
    "    f1_score = np.mean(f1_score)\n",
    "    \n",
    "    return f1_score"
   ]
  },
  {
   "cell_type": "markdown",
   "metadata": {
    "id": "nd7U_WxW8Uwp"
   },
   "source": [
    "### Define Model\n",
    "Define an MLP model to solve classification problem."
   ]
  },
  {
   "cell_type": "code",
   "execution_count": 59,
   "metadata": {
    "id": "ie-_arHu8Uwp"
   },
   "outputs": [],
   "source": [
    "#########################################\n",
    "##          Hyper parameters           ##\n",
    "#########################################\n",
    "\n",
    "n_epochs = 50\n",
    "batch_size = 64\n",
    "lr = 1e-3\n",
    "reg_coeff = 0.1"
   ]
  },
  {
   "cell_type": "code",
   "execution_count": 65,
   "metadata": {
    "id": "iKL7pUt88Uwp"
   },
   "outputs": [],
   "source": [
    "###############################################\n",
    "##             Define your model             ##\n",
    "##     use a good initializer for layers     ##\n",
    "###############################################\n",
    "initializer = lambda x, y: np.random.normal(scale=np.sqrt(2 / x), size=(x, y))\n",
    "layer_sizes = [3072,1024, 256, 128, 64, 32, 10]\n",
    "layers  = []\n",
    "for i in range(len(layer_sizes )-1):\n",
    "    lin = LinearLayer(layer_sizes[i], layer_sizes[i+1], initializer, True, reg_coeff)\n",
    "    layers.append(lin)\n",
    "    if i%2==0:\n",
    "        layers.append(ReLU())\n",
    "layers.append(LogSoftMax())\n",
    "model = MLPModel(layers)"
   ]
  },
  {
   "cell_type": "code",
   "execution_count": 66,
   "metadata": {
    "id": "o4bGfmJ_8Uwp"
   },
   "outputs": [],
   "source": [
    "##################################################\n",
    "##      Define optimizer, loss and sampler      ##\n",
    "##################################################\n",
    "\n",
    "optimizer = Optimizer(model.get_parameters(), 'sgd', lr)\n",
    "criterion = CrossEntropyLoss()\n",
    "train_sampler = RandomSampler(batch_size, data, 'train')\n",
    "val_sampler = RandomSampler(batch_size, data, 'validation')\n",
    "test_sampler = RandomSampler(batch_size, data, 'test')"
   ]
  },
  {
   "cell_type": "markdown",
   "metadata": {
    "id": "H_K4jFK08Uwq"
   },
   "source": [
    "### Train Model\n",
    "\n",
    "Fill in the below cell to train the model. Store each epoch loss, accuracy and f1-score. Use f1-score to choose best epoch.\n",
    "\n",
    "**Note1**: To do backpropagation you need to first call `backward` function of criterion with 1 as its argument to have gradient of loss w.r.t output of this module and then using model `backward` function with `criterion.grads['x']` argument.\n",
    "\n",
    "**Note2**: You can ignore regularization term in your total loss value and just use criterion, but you must consider that during updating."
   ]
  },
  {
   "cell_type": "code",
   "execution_count": 67,
   "metadata": {
    "colab": {
     "base_uri": "https://localhost:8080/"
    },
    "id": "EK9LNueM8Uwq",
    "outputId": "f846adf6-eb54-4fa3-ddf0-c69c7528d834",
    "scrolled": false
   },
   "outputs": [
    {
     "name": "stderr",
     "output_type": "stream",
     "text": [
      "Train 0 | Loss:4.67e-02 | Acc: 0.15| F1: 0.15|: 100%|██████████| 54/54 [00:02<00:00, 16.45it/s]\n",
      "Val   0 | Loss:3.90e-02 | Acc: 0.30| F1: 0.18|: 100%|██████████| 10/10 [00:00<00:00, 99.35it/s]\n",
      "Train 1 | Loss:3.49e-02 | Acc: 0.25| F1: 0.23|:   4%|▎         | 2/54 [00:00<00:03, 15.72it/s]"
     ]
    },
    {
     "name": "stdout",
     "output_type": "stream",
     "text": [
      "changing best model in epoch 0\n",
      "----------------------------[Epoch1 finished!]----------------------------\n"
     ]
    },
    {
     "name": "stderr",
     "output_type": "stream",
     "text": [
      "Train 1 | Loss:3.46e-02 | Acc: 0.21| F1: 0.23|: 100%|██████████| 54/54 [00:03<00:00, 16.49it/s]\n",
      "Val   1 | Loss:3.67e-02 | Acc: 0.33| F1: 0.21|: 100%|██████████| 10/10 [00:00<00:00, 96.96it/s]\n",
      "Train 2 | Loss:3.29e-02 | Acc: 0.24| F1: 0.25|:   4%|▎         | 2/54 [00:00<00:03, 16.25it/s]"
     ]
    },
    {
     "name": "stdout",
     "output_type": "stream",
     "text": [
      "changing best model in epoch 1\n",
      "----------------------------[Epoch2 finished!]----------------------------\n"
     ]
    },
    {
     "name": "stderr",
     "output_type": "stream",
     "text": [
      "Train 2 | Loss:3.23e-02 | Acc: 0.21| F1: 0.26|: 100%|██████████| 54/54 [00:02<00:00, 20.81it/s]\n",
      "Val   2 | Loss:3.55e-02 | Acc: 0.33| F1: 0.23|: 100%|██████████| 10/10 [00:00<00:00, 106.44it/s]\n",
      "Train 3 | Loss:3.00e-02 | Acc: 0.29| F1: 0.34|:   4%|▎         | 2/54 [00:00<00:03, 15.28it/s]"
     ]
    },
    {
     "name": "stdout",
     "output_type": "stream",
     "text": [
      "changing best model in epoch 2\n",
      "----------------------------[Epoch3 finished!]----------------------------\n"
     ]
    },
    {
     "name": "stderr",
     "output_type": "stream",
     "text": [
      "Train 3 | Loss:3.08e-02 | Acc: 0.23| F1: 0.29|: 100%|██████████| 54/54 [00:03<00:00, 18.61it/s]\n",
      "Val   3 | Loss:3.45e-02 | Acc: 0.33| F1: 0.23|: 100%|██████████| 10/10 [00:00<00:00, 73.47it/s]\n",
      "Train 4 | Loss:2.87e-02 | Acc: 0.33| F1: 0.38|:   4%|▎         | 2/54 [00:00<00:04, 12.87it/s]"
     ]
    },
    {
     "name": "stdout",
     "output_type": "stream",
     "text": [
      "----------------------------[Epoch4 finished!]----------------------------\n"
     ]
    },
    {
     "name": "stderr",
     "output_type": "stream",
     "text": [
      "Train 4 | Loss:2.97e-02 | Acc: 0.24| F1: 0.32|: 100%|██████████| 54/54 [00:03<00:00, 16.56it/s]\n",
      "Val   4 | Loss:3.39e-02 | Acc: 0.33| F1: 0.25|: 100%|██████████| 10/10 [00:00<00:00, 49.37it/s]\n",
      "Train 5 | Loss:2.90e-02 | Acc: 0.30| F1: 0.35|:   4%|▎         | 2/54 [00:00<00:02, 17.91it/s]"
     ]
    },
    {
     "name": "stdout",
     "output_type": "stream",
     "text": [
      "changing best model in epoch 4\n",
      "----------------------------[Epoch5 finished!]----------------------------\n"
     ]
    },
    {
     "name": "stderr",
     "output_type": "stream",
     "text": [
      "Train 5 | Loss:2.89e-02 | Acc: 0.29| F1: 0.34|: 100%|██████████| 54/54 [00:02<00:00, 21.26it/s]\n",
      "Val   5 | Loss:3.34e-02 | Acc: 0.33| F1: 0.27|: 100%|██████████| 10/10 [00:00<00:00, 148.63it/s]\n",
      "Train 6 | Loss:2.84e-02 | Acc: 0.32| F1: 0.38|:   4%|▎         | 2/54 [00:00<00:02, 18.84it/s]"
     ]
    },
    {
     "name": "stdout",
     "output_type": "stream",
     "text": [
      "changing best model in epoch 5\n",
      "----------------------------[Epoch6 finished!]----------------------------\n"
     ]
    },
    {
     "name": "stderr",
     "output_type": "stream",
     "text": [
      "Train 6 | Loss:2.83e-02 | Acc: 0.29| F1: 0.35|: 100%|██████████| 54/54 [00:02<00:00, 23.28it/s]\n",
      "Val   6 | Loss:3.30e-02 | Acc: 0.35| F1: 0.27|: 100%|██████████| 10/10 [00:00<00:00, 107.08it/s]\n",
      "Train 7 | Loss:2.67e-02 | Acc: 0.40| F1: 0.42|:   4%|▎         | 2/54 [00:00<00:03, 14.72it/s]"
     ]
    },
    {
     "name": "stdout",
     "output_type": "stream",
     "text": [
      "changing best model in epoch 6\n",
      "----------------------------[Epoch7 finished!]----------------------------\n"
     ]
    },
    {
     "name": "stderr",
     "output_type": "stream",
     "text": [
      "Train 7 | Loss:2.78e-02 | Acc: 0.26| F1: 0.37|: 100%|██████████| 54/54 [00:02<00:00, 19.58it/s]\n",
      "Val   7 | Loss:3.27e-02 | Acc: 0.35| F1: 0.27|: 100%|██████████| 10/10 [00:00<00:00, 122.05it/s]\n",
      "Train 8 | Loss:2.75e-02 | Acc: 0.32| F1: 0.38|:   6%|▌         | 3/54 [00:00<00:02, 21.84it/s]"
     ]
    },
    {
     "name": "stdout",
     "output_type": "stream",
     "text": [
      "changing best model in epoch 7\n",
      "----------------------------[Epoch8 finished!]----------------------------\n"
     ]
    },
    {
     "name": "stderr",
     "output_type": "stream",
     "text": [
      "Train 8 | Loss:2.74e-02 | Acc: 0.29| F1: 0.38|: 100%|██████████| 54/54 [00:03<00:00, 15.61it/s]\n",
      "Val   8 | Loss:3.24e-02 | Acc: 0.38| F1: 0.28|: 100%|██████████| 10/10 [00:00<00:00, 105.83it/s]\n",
      "Train 9 | Loss:2.71e-02 | Acc: 0.32| F1: 0.41|:   4%|▎         | 2/54 [00:00<00:02, 19.25it/s]"
     ]
    },
    {
     "name": "stdout",
     "output_type": "stream",
     "text": [
      "changing best model in epoch 8\n",
      "----------------------------[Epoch9 finished!]----------------------------\n"
     ]
    },
    {
     "name": "stderr",
     "output_type": "stream",
     "text": [
      "Train 9 | Loss:2.71e-02 | Acc: 0.31| F1: 0.39|: 100%|██████████| 54/54 [00:02<00:00, 19.86it/s]\n",
      "Val   9 | Loss:3.21e-02 | Acc: 0.42| F1: 0.29|: 100%|██████████| 10/10 [00:00<00:00, 117.70it/s]\n",
      "Train 10 | Loss:2.51e-02 | Acc: 0.56| F1: 0.52|:   2%|▏         | 1/54 [00:00<00:05,  9.74it/s]"
     ]
    },
    {
     "name": "stdout",
     "output_type": "stream",
     "text": [
      "changing best model in epoch 9\n",
      "----------------------------[Epoch10 finished!]----------------------------\n"
     ]
    },
    {
     "name": "stderr",
     "output_type": "stream",
     "text": [
      "Train 10 | Loss:2.68e-02 | Acc: 0.29| F1: 0.40|: 100%|██████████| 54/54 [00:02<00:00, 20.76it/s]\n",
      "Val   10 | Loss:3.18e-02 | Acc: 0.42| F1: 0.30|: 100%|██████████| 10/10 [00:00<00:00, 128.78it/s]\n",
      "Train 11 | Loss:2.55e-02 | Acc: 0.44| F1: 0.46|:   4%|▎         | 2/54 [00:00<00:04, 11.93it/s]"
     ]
    },
    {
     "name": "stdout",
     "output_type": "stream",
     "text": [
      "changing best model in epoch 10\n",
      "----------------------------[Epoch11 finished!]----------------------------\n"
     ]
    },
    {
     "name": "stderr",
     "output_type": "stream",
     "text": [
      "Train 11 | Loss:2.66e-02 | Acc: 0.29| F1: 0.41|: 100%|██████████| 54/54 [00:02<00:00, 18.93it/s]\n",
      "Val   11 | Loss:3.16e-02 | Acc: 0.42| F1: 0.29|: 100%|██████████| 10/10 [00:00<00:00, 77.85it/s]\n",
      "Train 12 | Loss:2.63e-02 | Acc: 0.35| F1: 0.43|:   4%|▎         | 2/54 [00:00<00:02, 17.66it/s]"
     ]
    },
    {
     "name": "stdout",
     "output_type": "stream",
     "text": [
      "----------------------------[Epoch12 finished!]----------------------------\n"
     ]
    },
    {
     "name": "stderr",
     "output_type": "stream",
     "text": [
      "Train 12 | Loss:2.63e-02 | Acc: 0.32| F1: 0.42|: 100%|██████████| 54/54 [00:02<00:00, 20.73it/s]\n",
      "Val   12 | Loss:3.14e-02 | Acc: 0.43| F1: 0.30|: 100%|██████████| 10/10 [00:00<00:00, 186.50it/s]\n",
      "Train 13 | Loss:2.61e-02 | Acc: 0.46| F1: 0.44|:   6%|▌         | 3/54 [00:00<00:02, 22.32it/s]"
     ]
    },
    {
     "name": "stdout",
     "output_type": "stream",
     "text": [
      "changing best model in epoch 12\n",
      "----------------------------[Epoch13 finished!]----------------------------\n"
     ]
    },
    {
     "name": "stderr",
     "output_type": "stream",
     "text": [
      "Train 13 | Loss:2.62e-02 | Acc: 0.34| F1: 0.42|: 100%|██████████| 54/54 [00:02<00:00, 22.81it/s]\n",
      "Val   13 | Loss:3.12e-02 | Acc: 0.45| F1: 0.31|: 100%|██████████| 10/10 [00:00<00:00, 119.09it/s]\n",
      "Train 14 | Loss:2.59e-02 | Acc: 0.46| F1: 0.44|:   6%|▌         | 3/54 [00:00<00:02, 23.02it/s]"
     ]
    },
    {
     "name": "stdout",
     "output_type": "stream",
     "text": [
      "changing best model in epoch 13\n",
      "----------------------------[Epoch14 finished!]----------------------------\n"
     ]
    },
    {
     "name": "stderr",
     "output_type": "stream",
     "text": [
      "Train 14 | Loss:2.61e-02 | Acc: 0.31| F1: 0.43|: 100%|██████████| 54/54 [00:02<00:00, 23.09it/s]\n",
      "Val   14 | Loss:3.11e-02 | Acc: 0.45| F1: 0.32|: 100%|██████████| 10/10 [00:00<00:00, 112.08it/s]\n",
      "Train 15 | Loss:2.58e-02 | Acc: 0.35| F1: 0.44|:   4%|▎         | 2/54 [00:00<00:02, 18.87it/s]"
     ]
    },
    {
     "name": "stdout",
     "output_type": "stream",
     "text": [
      "changing best model in epoch 14\n",
      "----------------------------[Epoch15 finished!]----------------------------\n"
     ]
    },
    {
     "name": "stderr",
     "output_type": "stream",
     "text": [
      "Train 15 | Loss:2.60e-02 | Acc: 0.31| F1: 0.43|: 100%|██████████| 54/54 [00:02<00:00, 24.58it/s]\n",
      "Val   15 | Loss:3.10e-02 | Acc: 0.48| F1: 0.33|: 100%|██████████| 10/10 [00:00<00:00, 80.58it/s]\n",
      "Train 16 | Loss:2.57e-02 | Acc: 0.37| F1: 0.45|:   6%|▌         | 3/54 [00:00<00:02, 22.41it/s]"
     ]
    },
    {
     "name": "stdout",
     "output_type": "stream",
     "text": [
      "changing best model in epoch 15\n",
      "----------------------------[Epoch16 finished!]----------------------------\n"
     ]
    },
    {
     "name": "stderr",
     "output_type": "stream",
     "text": [
      "Train 16 | Loss:2.59e-02 | Acc: 0.37| F1: 0.44|: 100%|██████████| 54/54 [00:02<00:00, 18.64it/s]\n",
      "Val   16 | Loss:3.08e-02 | Acc: 0.48| F1: 0.33|: 100%|██████████| 10/10 [00:00<00:00, 64.38it/s]\n",
      "Train 17 | Loss:2.56e-02 | Acc: 0.48| F1: 0.44|:   6%|▌         | 3/54 [00:00<00:02, 22.41it/s]"
     ]
    },
    {
     "name": "stdout",
     "output_type": "stream",
     "text": [
      "changing best model in epoch 16\n",
      "----------------------------[Epoch17 finished!]----------------------------\n"
     ]
    },
    {
     "name": "stderr",
     "output_type": "stream",
     "text": [
      "Train 17 | Loss:2.58e-02 | Acc: 0.39| F1: 0.44|: 100%|██████████| 54/54 [00:03<00:00, 15.68it/s]\n",
      "Val   17 | Loss:3.07e-02 | Acc: 0.48| F1: 0.34|: 100%|██████████| 10/10 [00:00<00:00, 55.00it/s]\n",
      "Train 18 | Loss:2.48e-02 | Acc: 0.46| F1: 0.49|:   4%|▎         | 2/54 [00:00<00:03, 14.53it/s]"
     ]
    },
    {
     "name": "stdout",
     "output_type": "stream",
     "text": [
      "changing best model in epoch 17\n",
      "----------------------------[Epoch18 finished!]----------------------------\n"
     ]
    },
    {
     "name": "stderr",
     "output_type": "stream",
     "text": [
      "Train 18 | Loss:2.58e-02 | Acc: 0.39| F1: 0.45|: 100%|██████████| 54/54 [00:02<00:00, 19.91it/s]\n",
      "Val   18 | Loss:3.07e-02 | Acc: 0.47| F1: 0.34|: 100%|██████████| 10/10 [00:00<00:00, 116.59it/s]\n",
      "Train 19 | Loss:2.58e-02 | Acc: 0.41| F1: 0.44|:   6%|▌         | 3/54 [00:00<00:01, 26.14it/s]"
     ]
    },
    {
     "name": "stdout",
     "output_type": "stream",
     "text": [
      "----------------------------[Epoch19 finished!]----------------------------\n"
     ]
    },
    {
     "name": "stderr",
     "output_type": "stream",
     "text": [
      "Train 19 | Loss:2.58e-02 | Acc: 0.40| F1: 0.45|: 100%|██████████| 54/54 [00:02<00:00, 19.98it/s]\n",
      "Val   19 | Loss:3.06e-02 | Acc: 0.45| F1: 0.34|: 100%|██████████| 10/10 [00:00<00:00, 141.68it/s]\n",
      "Train 20 | Loss:2.55e-02 | Acc: 0.35| F1: 0.44|:   6%|▌         | 3/54 [00:00<00:02, 20.94it/s]"
     ]
    },
    {
     "name": "stdout",
     "output_type": "stream",
     "text": [
      "changing best model in epoch 19\n",
      "----------------------------[Epoch20 finished!]----------------------------\n"
     ]
    },
    {
     "name": "stderr",
     "output_type": "stream",
     "text": [
      "Train 20 | Loss:2.58e-02 | Acc: 0.39| F1: 0.45|: 100%|██████████| 54/54 [00:02<00:00, 20.64it/s]\n",
      "Val   20 | Loss:3.06e-02 | Acc: 0.42| F1: 0.33|: 100%|██████████| 10/10 [00:00<00:00, 135.97it/s]\n",
      "Train 21 | Loss:2.58e-02 | Acc: 0.44| F1: 0.43|:   6%|▌         | 3/54 [00:00<00:01, 28.06it/s]"
     ]
    },
    {
     "name": "stdout",
     "output_type": "stream",
     "text": [
      "----------------------------[Epoch21 finished!]----------------------------\n"
     ]
    },
    {
     "name": "stderr",
     "output_type": "stream",
     "text": [
      "Train 21 | Loss:2.58e-02 | Acc: 0.37| F1: 0.45|: 100%|██████████| 54/54 [00:02<00:00, 19.77it/s]\n",
      "Val   21 | Loss:3.05e-02 | Acc: 0.43| F1: 0.34|: 100%|██████████| 10/10 [00:00<00:00, 51.23it/s]\n",
      "Train 22 | Loss:2.49e-02 | Acc: 0.49| F1: 0.50|:   4%|▎         | 2/54 [00:00<00:02, 18.83it/s]"
     ]
    },
    {
     "name": "stdout",
     "output_type": "stream",
     "text": [
      "----------------------------[Epoch22 finished!]----------------------------\n"
     ]
    },
    {
     "name": "stderr",
     "output_type": "stream",
     "text": [
      "Train 22 | Loss:2.58e-02 | Acc: 0.37| F1: 0.45|: 100%|██████████| 54/54 [00:03<00:00, 16.82it/s]\n",
      "Val   22 | Loss:3.05e-02 | Acc: 0.43| F1: 0.34|: 100%|██████████| 10/10 [00:00<00:00, 38.69it/s]\n",
      "Train 23 | Loss:2.56e-02 | Acc: 0.38| F1: 0.43|:   6%|▌         | 3/54 [00:00<00:02, 21.89it/s]"
     ]
    },
    {
     "name": "stdout",
     "output_type": "stream",
     "text": [
      "----------------------------[Epoch23 finished!]----------------------------\n"
     ]
    },
    {
     "name": "stderr",
     "output_type": "stream",
     "text": [
      "Train 23 | Loss:2.58e-02 | Acc: 0.37| F1: 0.46|: 100%|██████████| 54/54 [00:02<00:00, 21.05it/s]\n",
      "Val   23 | Loss:3.04e-02 | Acc: 0.43| F1: 0.33|: 100%|██████████| 10/10 [00:00<00:00, 137.18it/s]\n",
      "Train 24 | Loss:2.56e-02 | Acc: 0.38| F1: 0.44|:   4%|▎         | 2/54 [00:00<00:03, 14.73it/s]"
     ]
    },
    {
     "name": "stdout",
     "output_type": "stream",
     "text": [
      "----------------------------[Epoch24 finished!]----------------------------\n"
     ]
    },
    {
     "name": "stderr",
     "output_type": "stream",
     "text": [
      "Train 24 | Loss:2.59e-02 | Acc: 0.40| F1: 0.45|: 100%|██████████| 54/54 [00:02<00:00, 19.26it/s]\n",
      "Val   24 | Loss:3.04e-02 | Acc: 0.43| F1: 0.34|: 100%|██████████| 10/10 [00:00<00:00, 88.57it/s]\n",
      "Train 25 | Loss:2.51e-02 | Acc: 0.49| F1: 0.50|:   4%|▎         | 2/54 [00:00<00:02, 17.60it/s]"
     ]
    },
    {
     "name": "stdout",
     "output_type": "stream",
     "text": [
      "----------------------------[Epoch25 finished!]----------------------------\n"
     ]
    },
    {
     "name": "stderr",
     "output_type": "stream",
     "text": [
      "Train 25 | Loss:2.59e-02 | Acc: 0.39| F1: 0.46|: 100%|██████████| 54/54 [00:02<00:00, 20.71it/s]\n",
      "Val   25 | Loss:3.04e-02 | Acc: 0.45| F1: 0.33|: 100%|██████████| 10/10 [00:00<00:00, 85.97it/s]\n",
      "Train 26 | Loss:2.58e-02 | Acc: 0.38| F1: 0.43|:   6%|▌         | 3/54 [00:00<00:02, 23.23it/s]"
     ]
    },
    {
     "name": "stdout",
     "output_type": "stream",
     "text": [
      "----------------------------[Epoch26 finished!]----------------------------\n"
     ]
    },
    {
     "name": "stderr",
     "output_type": "stream",
     "text": [
      "Train 26 | Loss:2.60e-02 | Acc: 0.40| F1: 0.45|: 100%|██████████| 54/54 [00:02<00:00, 19.54it/s]\n",
      "Val   26 | Loss:3.04e-02 | Acc: 0.45| F1: 0.34|: 100%|██████████| 10/10 [00:00<00:00, 135.15it/s]\n",
      "Train 27 | Loss:2.61e-02 | Acc: 0.41| F1: 0.43|:   6%|▌         | 3/54 [00:00<00:01, 26.58it/s]"
     ]
    },
    {
     "name": "stdout",
     "output_type": "stream",
     "text": [
      "----------------------------[Epoch27 finished!]----------------------------\n"
     ]
    },
    {
     "name": "stderr",
     "output_type": "stream",
     "text": [
      "Train 27 | Loss:2.60e-02 | Acc: 0.40| F1: 0.45|: 100%|██████████| 54/54 [00:02<00:00, 19.69it/s]\n",
      "Val   27 | Loss:3.04e-02 | Acc: 0.45| F1: 0.34|: 100%|██████████| 10/10 [00:00<00:00, 119.77it/s]\n",
      "Train 28 | Loss:2.53e-02 | Acc: 0.49| F1: 0.48|:   2%|▏         | 1/54 [00:00<00:05,  9.64it/s]"
     ]
    },
    {
     "name": "stdout",
     "output_type": "stream",
     "text": [
      "changing best model in epoch 27\n",
      "----------------------------[Epoch28 finished!]----------------------------\n"
     ]
    },
    {
     "name": "stderr",
     "output_type": "stream",
     "text": [
      "Train 28 | Loss:2.61e-02 | Acc: 0.40| F1: 0.45|: 100%|██████████| 54/54 [00:02<00:00, 22.09it/s]\n",
      "Val   28 | Loss:3.05e-02 | Acc: 0.47| F1: 0.34|: 100%|██████████| 10/10 [00:00<00:00, 134.85it/s]\n",
      "Train 29 | Loss:2.59e-02 | Acc: 0.40| F1: 0.45|:   6%|▌         | 3/54 [00:00<00:02, 20.97it/s]"
     ]
    },
    {
     "name": "stdout",
     "output_type": "stream",
     "text": [
      "----------------------------[Epoch29 finished!]----------------------------\n"
     ]
    },
    {
     "name": "stderr",
     "output_type": "stream",
     "text": [
      "Train 29 | Loss:2.62e-02 | Acc: 0.39| F1: 0.45|: 100%|██████████| 54/54 [00:02<00:00, 21.04it/s]\n",
      "Val   29 | Loss:3.05e-02 | Acc: 0.45| F1: 0.34|: 100%|██████████| 10/10 [00:00<00:00, 58.72it/s]\n",
      "Train 30 | Loss:2.55e-02 | Acc: 0.51| F1: 0.49|:   4%|▎         | 2/54 [00:00<00:04, 11.45it/s]"
     ]
    },
    {
     "name": "stdout",
     "output_type": "stream",
     "text": [
      "----------------------------[Epoch30 finished!]----------------------------\n"
     ]
    },
    {
     "name": "stderr",
     "output_type": "stream",
     "text": [
      "Train 30 | Loss:2.63e-02 | Acc: 0.40| F1: 0.45|: 100%|██████████| 54/54 [00:03<00:00, 15.33it/s]\n",
      "Val   30 | Loss:3.05e-02 | Acc: 0.45| F1: 0.34|: 100%|██████████| 10/10 [00:00<00:00, 67.17it/s]\n",
      "Train 31 | Loss:2.61e-02 | Acc: 0.40| F1: 0.45|:   4%|▎         | 2/54 [00:00<00:03, 16.79it/s]"
     ]
    },
    {
     "name": "stdout",
     "output_type": "stream",
     "text": [
      "----------------------------[Epoch31 finished!]----------------------------\n"
     ]
    },
    {
     "name": "stderr",
     "output_type": "stream",
     "text": [
      "Train 31 | Loss:2.63e-02 | Acc: 0.35| F1: 0.45|: 100%|██████████| 54/54 [00:02<00:00, 20.98it/s]\n",
      "Val   31 | Loss:3.05e-02 | Acc: 0.43| F1: 0.33|: 100%|██████████| 10/10 [00:00<00:00, 41.50it/s]\n",
      "Train 32 | Loss:2.62e-02 | Acc: 0.38| F1: 0.44|:   4%|▎         | 2/54 [00:00<00:03, 16.74it/s]"
     ]
    },
    {
     "name": "stdout",
     "output_type": "stream",
     "text": [
      "----------------------------[Epoch32 finished!]----------------------------\n"
     ]
    },
    {
     "name": "stderr",
     "output_type": "stream",
     "text": [
      "Train 32 | Loss:2.64e-02 | Acc: 0.35| F1: 0.44|: 100%|██████████| 54/54 [00:02<00:00, 18.65it/s]\n",
      "Val   32 | Loss:3.05e-02 | Acc: 0.45| F1: 0.33|: 100%|██████████| 10/10 [00:00<00:00, 90.10it/s]\n",
      "Train 33 | Loss:2.58e-02 | Acc: 0.49| F1: 0.48|:   4%|▎         | 2/54 [00:00<00:04, 12.86it/s]"
     ]
    },
    {
     "name": "stdout",
     "output_type": "stream",
     "text": [
      "----------------------------[Epoch33 finished!]----------------------------\n"
     ]
    },
    {
     "name": "stderr",
     "output_type": "stream",
     "text": [
      "Train 33 | Loss:2.65e-02 | Acc: 0.37| F1: 0.44|: 100%|██████████| 54/54 [00:02<00:00, 20.83it/s]\n",
      "Val   33 | Loss:3.05e-02 | Acc: 0.43| F1: 0.33|: 100%|██████████| 10/10 [00:00<00:00, 134.77it/s]\n",
      "Train 34 | Loss:2.59e-02 | Acc: 0.49| F1: 0.49|:   4%|▎         | 2/54 [00:00<00:02, 17.81it/s]"
     ]
    },
    {
     "name": "stdout",
     "output_type": "stream",
     "text": [
      "----------------------------[Epoch34 finished!]----------------------------\n"
     ]
    },
    {
     "name": "stderr",
     "output_type": "stream",
     "text": [
      "Train 34 | Loss:2.66e-02 | Acc: 0.37| F1: 0.44|: 100%|██████████| 54/54 [00:03<00:00, 16.15it/s]\n",
      "Val   34 | Loss:3.06e-02 | Acc: 0.43| F1: 0.33|: 100%|██████████| 10/10 [00:00<00:00, 97.07it/s]\n",
      "Train 35 | Loss:2.61e-02 | Acc: 0.49| F1: 0.49|:   4%|▎         | 2/54 [00:00<00:02, 17.64it/s]"
     ]
    },
    {
     "name": "stdout",
     "output_type": "stream",
     "text": [
      "----------------------------[Epoch35 finished!]----------------------------\n"
     ]
    },
    {
     "name": "stderr",
     "output_type": "stream",
     "text": [
      "Train 35 | Loss:2.67e-02 | Acc: 0.39| F1: 0.44|: 100%|██████████| 54/54 [00:03<00:00, 14.23it/s]\n",
      "Val   35 | Loss:3.06e-02 | Acc: 0.42| F1: 0.33|: 100%|██████████| 10/10 [00:00<00:00, 46.60it/s]\n",
      "Train 36 | Loss:2.62e-02 | Acc: 0.48| F1: 0.47|:   4%|▎         | 2/54 [00:00<00:02, 17.42it/s]"
     ]
    },
    {
     "name": "stdout",
     "output_type": "stream",
     "text": [
      "----------------------------[Epoch36 finished!]----------------------------\n"
     ]
    },
    {
     "name": "stderr",
     "output_type": "stream",
     "text": [
      "Train 36 | Loss:2.67e-02 | Acc: 0.39| F1: 0.44|: 100%|██████████| 54/54 [00:02<00:00, 23.55it/s]\n",
      "Val   36 | Loss:3.06e-02 | Acc: 0.40| F1: 0.32|: 100%|██████████| 10/10 [00:00<00:00, 42.19it/s]\n",
      "Train 37 | Loss:2.66e-02 | Acc: 0.37| F1: 0.43|:   4%|▎         | 2/54 [00:00<00:02, 19.64it/s]"
     ]
    },
    {
     "name": "stdout",
     "output_type": "stream",
     "text": [
      "----------------------------[Epoch37 finished!]----------------------------\n"
     ]
    },
    {
     "name": "stderr",
     "output_type": "stream",
     "text": [
      "Train 37 | Loss:2.68e-02 | Acc: 0.40| F1: 0.43|: 100%|██████████| 54/54 [00:02<00:00, 22.76it/s]\n",
      "Val   37 | Loss:3.07e-02 | Acc: 0.40| F1: 0.32|: 100%|██████████| 10/10 [00:00<00:00, 117.87it/s]\n",
      "Train 38 | Loss:2.68e-02 | Acc: 0.41| F1: 0.43|:   6%|▌         | 3/54 [00:00<00:02, 21.60it/s]"
     ]
    },
    {
     "name": "stdout",
     "output_type": "stream",
     "text": [
      "----------------------------[Epoch38 finished!]----------------------------\n"
     ]
    },
    {
     "name": "stderr",
     "output_type": "stream",
     "text": [
      "Train 38 | Loss:2.69e-02 | Acc: 0.40| F1: 0.43|: 100%|██████████| 54/54 [00:02<00:00, 19.77it/s]\n",
      "Val   38 | Loss:3.07e-02 | Acc: 0.40| F1: 0.32|: 100%|██████████| 10/10 [00:00<00:00, 71.93it/s]\n",
      "Train 39 | Loss:2.69e-02 | Acc: 0.37| F1: 0.43|:   4%|▎         | 2/54 [00:00<00:02, 17.95it/s]"
     ]
    },
    {
     "name": "stdout",
     "output_type": "stream",
     "text": [
      "----------------------------[Epoch39 finished!]----------------------------\n"
     ]
    },
    {
     "name": "stderr",
     "output_type": "stream",
     "text": [
      "Train 39 | Loss:2.70e-02 | Acc: 0.37| F1: 0.43|: 100%|██████████| 54/54 [00:03<00:00, 12.16it/s]\n",
      "Val   39 | Loss:3.07e-02 | Acc: 0.40| F1: 0.32|: 100%|██████████| 10/10 [00:00<00:00, 90.50it/s]\n",
      "Train 40 | Loss:2.70e-02 | Acc: 0.37| F1: 0.43|:   4%|▎         | 2/54 [00:00<00:02, 18.97it/s]"
     ]
    },
    {
     "name": "stdout",
     "output_type": "stream",
     "text": [
      "----------------------------[Epoch40 finished!]----------------------------\n"
     ]
    },
    {
     "name": "stderr",
     "output_type": "stream",
     "text": [
      "Train 40 | Loss:2.71e-02 | Acc: 0.39| F1: 0.43|: 100%|██████████| 54/54 [00:02<00:00, 22.69it/s]\n",
      "Val   40 | Loss:3.08e-02 | Acc: 0.38| F1: 0.32|: 100%|██████████| 10/10 [00:00<00:00, 64.32it/s]\n",
      "Train 41 | Loss:2.65e-02 | Acc: 0.51| F1: 0.48|:   0%|          | 0/54 [00:00<?, ?it/s]"
     ]
    },
    {
     "name": "stdout",
     "output_type": "stream",
     "text": [
      "----------------------------[Epoch41 finished!]----------------------------\n"
     ]
    },
    {
     "name": "stderr",
     "output_type": "stream",
     "text": [
      "Train 41 | Loss:2.72e-02 | Acc: 0.39| F1: 0.42|: 100%|██████████| 54/54 [00:02<00:00, 19.83it/s]\n",
      "Val   41 | Loss:3.08e-02 | Acc: 0.38| F1: 0.33|: 100%|██████████| 10/10 [00:00<00:00, 109.89it/s]\n",
      "Train 42 | Loss:2.72e-02 | Acc: 0.35| F1: 0.40|:   6%|▌         | 3/54 [00:00<00:02, 20.79it/s]"
     ]
    },
    {
     "name": "stdout",
     "output_type": "stream",
     "text": [
      "----------------------------[Epoch42 finished!]----------------------------\n"
     ]
    },
    {
     "name": "stderr",
     "output_type": "stream",
     "text": [
      "Train 42 | Loss:2.73e-02 | Acc: 0.40| F1: 0.42|: 100%|██████████| 54/54 [00:02<00:00, 21.88it/s]\n",
      "Val   42 | Loss:3.09e-02 | Acc: 0.38| F1: 0.32|: 100%|██████████| 10/10 [00:00<00:00, 50.69it/s]\n",
      "Train 43 | Loss:2.73e-02 | Acc: 0.35| F1: 0.40|:   4%|▎         | 2/54 [00:00<00:02, 18.43it/s]"
     ]
    },
    {
     "name": "stdout",
     "output_type": "stream",
     "text": [
      "----------------------------[Epoch43 finished!]----------------------------\n"
     ]
    },
    {
     "name": "stderr",
     "output_type": "stream",
     "text": [
      "Train 43 | Loss:2.74e-02 | Acc: 0.37| F1: 0.42|: 100%|██████████| 54/54 [00:02<00:00, 20.84it/s]\n",
      "Val   43 | Loss:3.09e-02 | Acc: 0.37| F1: 0.32|: 100%|██████████| 10/10 [00:00<00:00, 135.30it/s]\n",
      "Train 44 | Loss:2.74e-02 | Acc: 0.38| F1: 0.38|:   6%|▌         | 3/54 [00:00<00:02, 23.01it/s]"
     ]
    },
    {
     "name": "stdout",
     "output_type": "stream",
     "text": [
      "----------------------------[Epoch44 finished!]----------------------------\n"
     ]
    },
    {
     "name": "stderr",
     "output_type": "stream",
     "text": [
      "Train 44 | Loss:2.75e-02 | Acc: 0.37| F1: 0.41|: 100%|██████████| 54/54 [00:02<00:00, 21.45it/s]\n",
      "Val   44 | Loss:3.10e-02 | Acc: 0.38| F1: 0.32|: 100%|██████████| 10/10 [00:00<00:00, 115.30it/s]\n",
      "Train 45 | Loss:2.75e-02 | Acc: 0.35| F1: 0.39|:   6%|▌         | 3/54 [00:00<00:02, 20.55it/s]"
     ]
    },
    {
     "name": "stdout",
     "output_type": "stream",
     "text": [
      "----------------------------[Epoch45 finished!]----------------------------\n"
     ]
    },
    {
     "name": "stderr",
     "output_type": "stream",
     "text": [
      "Train 45 | Loss:2.76e-02 | Acc: 0.37| F1: 0.41|: 100%|██████████| 54/54 [00:02<00:00, 21.76it/s]\n",
      "Val   45 | Loss:3.10e-02 | Acc: 0.38| F1: 0.32|: 100%|██████████| 10/10 [00:00<00:00, 33.79it/s]\n",
      "Train 46 | Loss:2.76e-02 | Acc: 0.37| F1: 0.36|:   6%|▌         | 3/54 [00:00<00:02, 25.07it/s]"
     ]
    },
    {
     "name": "stdout",
     "output_type": "stream",
     "text": [
      "----------------------------[Epoch46 finished!]----------------------------\n"
     ]
    },
    {
     "name": "stderr",
     "output_type": "stream",
     "text": [
      "Train 46 | Loss:2.77e-02 | Acc: 0.37| F1: 0.40|: 100%|██████████| 54/54 [00:02<00:00, 15.39it/s]\n",
      "Val   46 | Loss:3.11e-02 | Acc: 0.38| F1: 0.31|: 100%|██████████| 10/10 [00:00<00:00, 76.55it/s]\n",
      "Train 47 | Loss:2.77e-02 | Acc: 0.35| F1: 0.36|:   6%|▌         | 3/54 [00:00<00:02, 23.22it/s]"
     ]
    },
    {
     "name": "stdout",
     "output_type": "stream",
     "text": [
      "----------------------------[Epoch47 finished!]----------------------------\n"
     ]
    },
    {
     "name": "stderr",
     "output_type": "stream",
     "text": [
      "Train 47 | Loss:2.78e-02 | Acc: 0.37| F1: 0.39|: 100%|██████████| 54/54 [00:02<00:00, 18.48it/s]\n",
      "Val   47 | Loss:3.11e-02 | Acc: 0.38| F1: 0.31|: 100%|██████████| 10/10 [00:00<00:00, 31.61it/s]\n",
      "Train 48 | Loss:2.75e-02 | Acc: 0.43| F1: 0.41|:   4%|▎         | 2/54 [00:00<00:04, 12.08it/s]"
     ]
    },
    {
     "name": "stdout",
     "output_type": "stream",
     "text": [
      "----------------------------[Epoch48 finished!]----------------------------\n"
     ]
    },
    {
     "name": "stderr",
     "output_type": "stream",
     "text": [
      "Train 48 | Loss:2.79e-02 | Acc: 0.37| F1: 0.39|: 100%|██████████| 54/54 [00:02<00:00, 23.14it/s]\n",
      "Val   48 | Loss:3.11e-02 | Acc: 0.38| F1: 0.31|: 100%|██████████| 10/10 [00:00<00:00, 135.38it/s]\n",
      "Train 49 | Loss:2.80e-02 | Acc: 0.35| F1: 0.36|:   6%|▌         | 3/54 [00:00<00:02, 24.51it/s]"
     ]
    },
    {
     "name": "stdout",
     "output_type": "stream",
     "text": [
      "----------------------------[Epoch49 finished!]----------------------------\n"
     ]
    },
    {
     "name": "stderr",
     "output_type": "stream",
     "text": [
      "Train 49 | Loss:2.80e-02 | Acc: 0.37| F1: 0.39|: 100%|██████████| 54/54 [00:02<00:00, 21.66it/s]\n",
      "Val   49 | Loss:3.12e-02 | Acc: 0.38| F1: 0.31|: 100%|██████████| 10/10 [00:00<00:00, 93.83it/s]"
     ]
    },
    {
     "name": "stdout",
     "output_type": "stream",
     "text": [
      "----------------------------[Epoch50 finished!]----------------------------\n"
     ]
    },
    {
     "name": "stderr",
     "output_type": "stream",
     "text": [
      "\n"
     ]
    }
   ],
   "source": [
    "#########################################\n",
    "##      Train and Validation loop      ##\n",
    "#########################################\n",
    "train_losses, val_losses = [], []\n",
    "train_accs, val_accs = [], []\n",
    "train_f1, val_f1 = [], []\n",
    "best_model = None\n",
    "best_f1 = 0\n",
    "\n",
    "for epoch in range(n_epochs):\n",
    "    \n",
    "    # Train Phase\n",
    "    total_loss = 0\n",
    "    N = 0\n",
    "    confusion = np.zeros((10, 10))\n",
    "    with tqdm.tqdm(enumerate(train_sampler), total=len(train_sampler)) as pbar:\n",
    "        for i, (x, y) in pbar:\n",
    "            #################################\n",
    "            ##          Your Code          ##\n",
    "            #################################\n",
    "            y_pred = model._forward(x)\n",
    "            y_argmax_pred = np.argmax(y_pred, axis=1)\n",
    "            confusion = update_confusion_matrix(confusion, y_argmax_pred, y)\n",
    "            loss = np.sum(criterion._forward(y_pred, y))\n",
    "            total_loss += loss\n",
    "            criterion.backward(1)\n",
    "            model.backward(criterion.grads['x'])\n",
    "            optimizer.step()\n",
    "            N += y.shape[0]\n",
    "\n",
    "\n",
    "            acc = np.sum(y_argmax_pred==y) / y.shape[0]\n",
    "            f1 = f1_score(confusion)\n",
    "            pbar.set_description(f'Train {epoch} | Loss:{total_loss/N:.2e} | Acc: {acc:.2f}| F1: {f1:.2f}|')\n",
    "    \n",
    "    # save epoch metrics for train phase\n",
    "    train_losses.append(total_loss/N)\n",
    "    train_accs.append(acc)\n",
    "    train_f1.append(f1)\n",
    "    \n",
    "\n",
    "    # Validation Phase\n",
    "    total_loss = 0\n",
    "    N = 0\n",
    "    confusion = np.zeros((10, 10))\n",
    "    with tqdm.tqdm(enumerate(val_sampler), total=len(val_sampler)) as pbar:\n",
    "        for i, (x, y) in pbar:\n",
    "            #################################\n",
    "            ##          Your Code          ##\n",
    "            #################################\n",
    "            y_pred = model._forward(x)\n",
    "            y_argmax_pred = np.argmax(y_pred, axis=1)\n",
    "            confusion = update_confusion_matrix(confusion, y_argmax_pred, y)\n",
    "            loss = np.sum(criterion._forward(y_pred, y))\n",
    "            total_loss += loss\n",
    "            N += y.shape[0]\n",
    "\n",
    "            acc = np.sum(y_argmax_pred==y) / y.shape[0]\n",
    "            f1 = f1_score(confusion)\n",
    "            pbar.set_description(f'Val   {epoch} | Loss:{total_loss/N:.2e} | Acc: {acc:.2f}| F1: {f1:.2f}|')\n",
    "    \n",
    "    # save epoch metrics for validation phase\n",
    "    val_losses.append(total_loss/N)\n",
    "    val_accs.append(acc)\n",
    "    val_f1.append(f1)\n",
    "    \n",
    "    \n",
    "    #################################\n",
    "    ##       update best model     ##\n",
    "    ##          Your Code          ##\n",
    "    #################################\n",
    "    if f1 > best_f1:\n",
    "        print(f'changing best model in epoch {epoch}')\n",
    "        best_model = copy.deepcopy(model)\n",
    "        best_f1 = f1\n",
    "    \n",
    "    \n",
    "    print(f'----------------------------[Epoch{epoch+1} finished!]----------------------------')"
   ]
  },
  {
   "cell_type": "markdown",
   "metadata": {
    "id": "R2axSPd98Uwq"
   },
   "source": [
    "### Test Model"
   ]
  },
  {
   "cell_type": "code",
   "execution_count": 68,
   "metadata": {
    "colab": {
     "base_uri": "https://localhost:8080/",
     "height": 863
    },
    "id": "dNStKLps8Uwq",
    "outputId": "76597554-312d-441c-d24e-c50e0fd77960",
    "scrolled": true
   },
   "outputs": [
    {
     "data": {
      "image/png": "[encoded data removed]",
      "text/plain": [
       "<Figure size 432x288 with 1 Axes>"
      ]
     },
     "metadata": {
      "needs_background": "light"
     },
     "output_type": "display_data"
    },
    {
     "data": {
      "image/png": "[encoded data removed]",
      "text/plain": [
       "<Figure size 432x288 with 1 Axes>"
      ]
     },
     "metadata": {
      "needs_background": "light"
     },
     "output_type": "display_data"
    },
    {
     "data": {
      "image/png": "[encoded data removed]",
      "text/plain": [
       "<Figure size 432x288 with 1 Axes>"
      ]
     },
     "metadata": {
      "needs_background": "light"
     },
     "output_type": "display_data"
    }
   ],
   "source": [
    "######################################################################\n",
    "##      Plot train and validation loss, accuracy and f1 graphs      ##\n",
    "######################################################################\n",
    "metrics = ['Loss', 'Accuracy', 'F1-score']\n",
    "train_metrics = [train_losses, train_accs, train_f1]\n",
    "val_metrics = [val_losses, val_accs, val_f1]\n",
    "def plot():\n",
    "    for i in range(len(metrics)):\n",
    "        plt.plot(train_metrics[i], label=f'Training {metrics[i]}')\n",
    "        plt.plot(val_metrics[i], label=f'Validation {metrics[i]}')\n",
    "        plt.title(f'Training and Validation {metrics[i]}')\n",
    "        plt.xlabel('Epochs')\n",
    "        plt.ylabel(metrics[i])    \n",
    "        \n",
    "        plt.legend(loc='best')\n",
    "        plt.show()\n",
    "plot()"
   ]
  },
  {
   "cell_type": "code",
   "execution_count": 69,
   "metadata": {
    "colab": {
     "base_uri": "https://localhost:8080/",
     "height": 628
    },
    "id": "5N4Ybivj8Uwq",
    "outputId": "dd316ed0-111e-4abd-e0b0-e03b212b9059",
    "scrolled": true
   },
   "outputs": [
    {
     "name": "stderr",
     "output_type": "stream",
     "text": [
      "100%|██████████| 16/16 [00:00<00:00, 130.22it/s]\n"
     ]
    },
    {
     "name": "stdout",
     "output_type": "stream",
     "text": [
      "Loss:2.88e-02 | Acc: 0.38| F1: 0.36|\n"
     ]
    },
    {
     "data": {
      "image/png": "[encoded data removed]",
      "text/plain": [
       "<Figure size 1080x720 with 2 Axes>"
      ]
     },
     "metadata": {
      "needs_background": "light"
     },
     "output_type": "display_data"
    }
   ],
   "source": [
    "############################################################\n",
    "##                  Test your best model                  ##\n",
    "##          Report loss, accuracy and f1 metrics          ##\n",
    "##      Also plot the confusion matrix for test data      ##\n",
    "############################################################\n",
    "    # Validation Phase\n",
    "CLASSES = {0:'airplane',1: 'automobile', 2:'bird', 3:'cat', 4:'deer', 5:'dog', 6:'frog', 7:'horse', 8:'ship', 9:'truck'}\n",
    "\n",
    "total_loss = 0\n",
    "N = 0\n",
    "confusion = np.zeros((10, 10))\n",
    "acc = 0\n",
    "with tqdm.tqdm(enumerate(test_sampler), total=len(test_sampler)) as pbar:\n",
    "    for i, (x, y) in pbar:\n",
    "        #################################\n",
    "        ##          Your Code          ##\n",
    "        #################################\n",
    "        y_pred = best_model._forward(x)\n",
    "        y_argmax_pred = np.argmax(y_pred, axis=1)\n",
    "        confusion = update_confusion_matrix(confusion, y_argmax_pred, y)\n",
    "        loss = np.sum(criterion._forward(y_pred, y))\n",
    "        total_loss += loss\n",
    "        N += y.shape[0]\n",
    "\n",
    "        acc += np.sum(y_argmax_pred==y)\n",
    "    acc /= N \n",
    "    f1 = f1_score(confusion)\n",
    "    print(f'Loss:{total_loss/N:.2e} | Acc: {acc:.2f}| F1: {f1:.2f}|')\n",
    "    plt.figure(figsize=(15, 10))\n",
    "    clss = [j for i, j in sorted(CLASSES.items())]\n",
    "    ax = sn.heatmap(confusion, annot=True, xticklabels=clss, yticklabels=clss, square=True)\n",
    "    plt.show()"
   ]
  },
  {
   "cell_type": "markdown",
   "metadata": {
    "id": "8TxYsZ6M8Uwr"
   },
   "source": [
    "## Weights Visualization (5 Points)\n",
    "\n",
    "For the last part we want to visualize weights matrix of the first layer."
   ]
  },
  {
   "cell_type": "code",
   "execution_count": 70,
   "metadata": {
    "id": "cCis_XKf8Uwr"
   },
   "outputs": [
    {
     "data": {
      "image/png": "[encoded data removed]",
      "text/plain": [
       "<Figure size 1296x432 with 5 Axes>"
      ]
     },
     "metadata": {
      "needs_background": "light"
     },
     "output_type": "display_data"
    }
   ],
   "source": [
    "##########################################################\n",
    "##          Visualize n of first layer weights          ##\n",
    "##          First reshape them to (32, 32, 3)           ##\n",
    "##########################################################\n",
    "n = 5\n",
    "plt.figure(figsize=(18, 6))\n",
    "weights = model.layers[0].params['W']\n",
    "length = weights.shape[1]\n",
    "choices = np.random.choice(range(length), n)\n",
    "index =0\n",
    "for choice in choices:\n",
    "    weight = np.abs(weights[:, choice]).reshape(1024, 3)\n",
    "    image = weight / np.max(weight, axis=0)\n",
    "    image = image.reshape(32, 32, 3)\n",
    "    plt.subplot(2, 6, index + 1)\n",
    "    plt.imshow(image)\n",
    "    plt.axis('off')\n",
    "    index += 1\n"
   ]
  }
 ],
 "metadata": {
  "colab": {
   "collapsed_sections": [
    "H_K4jFK08Uwq",
    "R2axSPd98Uwq",
    "8TxYsZ6M8Uwr"
   ],
   "provenance": []
  },
  "kernelspec": {
   "display_name": "Python 3",
   "language": "python",
   "name": "python3"
  },
  "language_info": {
   "codemirror_mode": {
    "name": "ipython",
    "version": 3
   },
   "file_extension": ".py",
   "mimetype": "text/x-python",
   "name": "python",
   "nbconvert_exporter": "python",
   "pygments_lexer": "ipython3",
   "version": "3.6.8"
  },
  "vscode": {
   "interpreter": {
    "hash": "81794d4967e6c3204c66dcd87b604927b115b27c00565d3d43f05ba2f3a2cb0d"
   }
  }
 },
 "nbformat": 4,
 "nbformat_minor": 1
}
